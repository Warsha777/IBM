{
 "cells": [
  {
   "cell_type": "code",
   "execution_count": null,
   "id": "d7d1b7ef",
   "metadata": {},
   "outputs": [],
   "source": []
  },
  {
   "cell_type": "markdown",
   "id": "cedbfe50",
   "metadata": {},
   "source": [
    "# ETL Process"
   ]
  },
  {
   "cell_type": "markdown",
   "id": "d6b06c14",
   "metadata": {},
   "source": [
    "Extract Data from Alpha Vantage API"
   ]
  },
  {
   "cell_type": "code",
   "execution_count": 1,
   "id": "bdab5a97",
   "metadata": {},
   "outputs": [],
   "source": [
    "import requests\n",
    "import pandas as pd\n",
    "import boto3\n",
    "from io import StringIO\n",
    " \n",
    "# Fetch data from Alpha Vantage API\n",
    "api_url = \"https://www.alphavantage.co/query\"\n",
    "params = {\n",
    "    \"function\": \"TIME_SERIES_MONTHLY_ADJUSTED\",\n",
    "    \"symbol\": \"IBM\",\n",
    "    \"apikey\": \"..\"\n",
    "}\n",
    "\n",
    "response = requests.get(api_url, params=params)\n",
    "data = response.json()"
   ]
  },
  {
   "cell_type": "markdown",
   "id": "3d4c76a9",
   "metadata": {},
   "source": [
    "Transform data"
   ]
  },
  {
   "cell_type": "code",
   "execution_count": 2,
   "id": "4af35a0d",
   "metadata": {},
   "outputs": [],
   "source": [
    "# Convert JSON to DataFrame\n",
    "df = pd.DataFrame(data[\"Monthly Adjusted Time Series\"]).T\n",
    "\n",
    "# Rename columns before saving\n",
    "df.rename(columns={\n",
    "    \"1. open\": \"Opening Price\",\n",
    "    \"2. high\": \"Highest Price\",\n",
    "    \"3. low\": \"Lowest Price\",\n",
    "    \"4. close\": \"Closing Price\",\n",
    "    \"5. adjusted close\": \"Adjusted Closing Price\",\n",
    "    \"6. volume\": \"Trading Volume\",\n",
    "    \"7. dividend amount\": \"Dividend per Share\"\n",
    "}, inplace=True)\n",
    "\n",
    "# Handle missing values \n",
    "df.dropna(inplace=True) \n"
   ]
  },
  {
   "cell_type": "markdown",
   "id": "95ca8a06",
   "metadata": {},
   "source": [
    "Load the transformed data to S3"
   ]
  },
  {
   "cell_type": "code",
   "execution_count": 3,
   "id": "9ee12424",
   "metadata": {},
   "outputs": [
    {
     "name": "stdout",
     "output_type": "stream",
     "text": [
      "File successfully uploaded to S3: s3://nimb-coursework-q1/finance-data/IBM_Monthly_Stock_Data.csv\n"
     ]
    }
   ],
   "source": [
    "# Convert DataFrame to CSV (in-memory)\n",
    "csv_buffer = StringIO()\n",
    "df.to_csv(csv_buffer, index=True)\n",
    "\n",
    "# AWS S3 Configurations\n",
    "s3 = boto3.client(\n",
    "    \"s3\",\n",
    "    aws_access_key_id=\"..\",\n",
    "    aws_secret_access_key=\"..\",\n",
    "    region_name=\"eu-north-1\"  \n",
    ")\n",
    "\n",
    "# Define bucket name and file path in S3\n",
    "bucket_name = \"nimb-coursework-q1\"\n",
    "s3_file_path = \"finance-data/IBM_Monthly_Stock_Data.csv\"\n",
    "\n",
    "# Upload to S3\n",
    "s3.put_object(Bucket=bucket_name, Key=s3_file_path, Body=csv_buffer.getvalue())\n",
    "\n",
    "print(f\"File successfully uploaded to S3: s3://{bucket_name}/{s3_file_path}\")\n"
   ]
  },
  {
   "cell_type": "code",
   "execution_count": null,
   "id": "1ddd16ff",
   "metadata": {},
   "outputs": [],
   "source": []
  },
  {
   "cell_type": "code",
   "execution_count": null,
   "id": "deb23b34",
   "metadata": {},
   "outputs": [],
   "source": []
  },
  {
   "cell_type": "code",
   "execution_count": null,
   "id": "2721cb4d",
   "metadata": {},
   "outputs": [],
   "source": []
  },
  {
   "cell_type": "code",
   "execution_count": null,
   "id": "66c3ac19",
   "metadata": {},
   "outputs": [],
   "source": []
  }
 ],
 "metadata": {
  "kernelspec": {
   "display_name": "Python 3 (ipykernel)",
   "language": "python",
   "name": "python3"
  },
  "language_info": {
   "codemirror_mode": {
    "name": "ipython",
    "version": 3
   },
   "file_extension": ".py",
   "mimetype": "text/x-python",
   "name": "python",
   "nbconvert_exporter": "python",
   "pygments_lexer": "ipython3",
   "version": "3.9.13"
  }
 },
 "nbformat": 4,
 "nbformat_minor": 5
}
